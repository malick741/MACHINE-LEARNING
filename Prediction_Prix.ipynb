{
  "nbformat": 4,
  "nbformat_minor": 0,
  "metadata": {
    "colab": {
      "name": "Prediction Prix",
      "provenance": [],
      "mount_file_id": "1LJyH6O-h8erZUS3jIh3L8L-iWdki9qBF",
      "authorship_tag": "ABX9TyPfVKQc3E55Qf56kAryGu7s",
      "include_colab_link": true
    },
    "kernelspec": {
      "name": "python3",
      "display_name": "Python 3"
    },
    "language_info": {
      "name": "python"
    }
  },
  "cells": [
    {
      "cell_type": "markdown",
      "metadata": {
        "id": "view-in-github",
        "colab_type": "text"
      },
      "source": [
        "<a href=\"https://colab.research.google.com/github/malick741/MACHINE-LEARNING/blob/main/Prediction_Prix.ipynb\" target=\"_parent\"><img src=\"https://colab.research.google.com/assets/colab-badge.svg\" alt=\"Open In Colab\"/></a>"
      ]
    },
    {
      "cell_type": "code",
      "metadata": {
        "id": "oS1Y6Ne2fBqy"
      },
      "source": [
        "import pandas as pd\n",
        "import numpy as np\n",
        "import matplotlib.pyplot as plt\n",
        "import seaborn as sns\n",
        "from sklearn.preprocessing import OneHotEncoder,OrdinalEncoder,LabelEncoder\n",
        "from sklearn.model_selection import train_test_split,learning_curve\n",
        "from sklearn.ensemble import GradientBoostingRegressor\n",
        "from sklearn.pipeline import make_pipeline\n",
        "from sklearn.preprocessing import RobustScaler\n",
        "from sklearn.model_selection import GridSearchCV\n",
        "from sklearn.linear_model import LogisticRegression\n"
      ],
      "execution_count": 15,
      "outputs": []
    },
    {
      "cell_type": "code",
      "metadata": {
        "id": "OUoOKPcogRlx"
      },
      "source": [
        "df0=pd.read_csv('/content/train.csv')\n",
        "df=df0.copy()\n",
        "dfT=pd.read_csv('/content/test.csv')\n",
        "df1=dfT.copy()"
      ],
      "execution_count": 9,
      "outputs": []
    },
    {
      "cell_type": "code",
      "metadata": {
        "colab": {
          "base_uri": "https://localhost:8080/"
        },
        "id": "QkyZ1LKfgSde",
        "outputId": "4f421b81-08aa-4cfa-b8c9-509d5d810907"
      },
      "source": [
        "def procedd(df):\n",
        "    df.drop(df[['PoolQC','Fence','MiscFeature','Alley']],axis=1,inplace=True)\n",
        "    df.drop_duplicates(inplace=True)\n",
        "    df['Electrical']=df['Electrical'].ffill()\n",
        "    df[['FireplaceQu','MasVnrType','BsmtQual','MasVnrArea']]=df[['FireplaceQu','MasVnrType','BsmtQual','MasVnrArea']].fillna('0')\n",
        "    df[['BsmtCond','BsmtExposure','BsmtFinType1','BsmtFinSF1','BsmtFinType2'  ]]=df[['BsmtCond','BsmtExposure','BsmtFinType1','BsmtFinSF1','BsmtFinType2'  ]].fillna('0')\n",
        "    df[['GarageType', 'GarageYrBlt','GarageFinish', 'GarageCars', 'GarageArea', 'GarageQual', 'GarageCond'  ]]=df[['GarageType', 'GarageYrBlt','GarageFinish', 'GarageCars', 'GarageArea', 'GarageQual', 'GarageCond'  ]].fillna('0')\n",
        "    df['GarageYrBlt']=df['GarageYrBlt'].astype(int)\n",
        "    df['LotFrontage']=df['LotFrontage'].fillna(df['LotFrontage'].mean())\n",
        "    \n",
        "    return df\n",
        "df=procedd(df0)\n",
        "\n",
        "\n",
        "\n",
        "\n",
        "\n",
        "def procedd(df1):\n",
        "    df1.drop(df1[['PoolQC','Fence','MiscFeature','Alley']],axis=1,inplace=True)\n",
        "    df1.drop_duplicates(inplace=True)\n",
        "    df1['Electrical']=df1['Electrical'].ffill()\n",
        "    df1[['FireplaceQu','MasVnrType','BsmtQual','MasVnrArea']]=df1[['FireplaceQu','MasVnrType','BsmtQual','MasVnrArea']].fillna('0')\n",
        "    df1[['BsmtCond','BsmtExposure','BsmtFinType1','BsmtFinSF1','BsmtFinType2'  ]]=df1[['BsmtCond','BsmtExposure','BsmtFinType1','BsmtFinSF1','BsmtFinType2'  ]].fillna('0')\n",
        "    df1[['GarageType', 'GarageYrBlt','GarageFinish', 'GarageCars', 'GarageArea', 'GarageQual', 'GarageCond'  ]]=df1[['GarageType', 'GarageYrBlt','GarageFinish', 'GarageCars', 'GarageArea', 'GarageQual', 'GarageCond'  ]].fillna('0')\n",
        "    df1['GarageYrBlt']=df1['GarageYrBlt'].astype(int)\n",
        "    df1['LotFrontage']=df1['LotFrontage'].fillna(df['LotFrontage'].mean())\n",
        "    #df1.dropna(inplace=True)\n",
        "    return df1\n",
        "df1=procedd(df1)\n",
        "\n",
        "\n",
        "encc=LabelEncoder()\n",
        "x_train=df[['LotFrontage','LotArea', 'Neighborhood', 'YearBuilt', 'BsmtFinSF1', 'TotalBsmtSF','1stFlrSF', 'GrLivArea', 'GarageArea']]\n",
        "x_test=df[['LotFrontage','LotArea', 'Neighborhood', 'YearBuilt', 'BsmtFinSF1', 'TotalBsmtSF','1stFlrSF', 'GrLivArea', 'GarageArea']]\n",
        "\n",
        "\n",
        "x_train['Neighborhood']=encc.fit_transform(x_train['Neighborhood'])\n",
        "x_test['Neighborhood']=encc.fit_transform(x_test['Neighborhood'])\n",
        "\n"
      ],
      "execution_count": 10,
      "outputs": [
        {
          "output_type": "stream",
          "text": [
            "/usr/local/lib/python3.7/dist-packages/ipykernel_launcher.py:37: SettingWithCopyWarning: \n",
            "A value is trying to be set on a copy of a slice from a DataFrame.\n",
            "Try using .loc[row_indexer,col_indexer] = value instead\n",
            "\n",
            "See the caveats in the documentation: https://pandas.pydata.org/pandas-docs/stable/user_guide/indexing.html#returning-a-view-versus-a-copy\n",
            "/usr/local/lib/python3.7/dist-packages/ipykernel_launcher.py:38: SettingWithCopyWarning: \n",
            "A value is trying to be set on a copy of a slice from a DataFrame.\n",
            "Try using .loc[row_indexer,col_indexer] = value instead\n",
            "\n",
            "See the caveats in the documentation: https://pandas.pydata.org/pandas-docs/stable/user_guide/indexing.html#returning-a-view-versus-a-copy\n"
          ],
          "name": "stderr"
        }
      ]
    },
    {
      "cell_type": "code",
      "metadata": {
        "id": "b1Q4ow3mhVW1"
      },
      "source": [
        "y=df['SalePrice']"
      ],
      "execution_count": 11,
      "outputs": []
    },
    {
      "cell_type": "code",
      "metadata": {
        "id": "-psf_43ggSod"
      },
      "source": [
        "del df['SalePrice']"
      ],
      "execution_count": 12,
      "outputs": []
    },
    {
      "cell_type": "code",
      "metadata": {
        "colab": {
          "base_uri": "https://localhost:8080/"
        },
        "id": "TwZtgXMfgSq5",
        "outputId": "63708b49-a82b-4140-faa3-a22e65d314a5"
      },
      "source": [
        "#encodage des donnees\n",
        "model=make_pipeline( RobustScaler(),GradientBoostingRegressor()) \n",
        "param_grid={'gradientboostingregressor__n_estimators':[20], \n",
        "            'gradientboostingregressor__max_depth':[10], \n",
        "            'gradientboostingregressor__min_samples_leaf':[5], \n",
        "            'gradientboostingregressor__max_features':['auto'] ,\n",
        "            'robustscaler__with_centering':[False]} \n",
        "grid=GridSearchCV(model,param_grid,cv=10, scoring='neg_mean_squared_error')\n",
        "#sorted(grid.estimator.get_params().keys())\n",
        "grid.fit(x_train,y)\n",
        "grid.score(x_train,y)"
      ],
      "execution_count": 13,
      "outputs": [
        {
          "output_type": "execute_result",
          "data": {
            "text/plain": [
              "-255046250.41262066"
            ]
          },
          "metadata": {
            "tags": []
          },
          "execution_count": 13
        }
      ]
    },
    {
      "cell_type": "code",
      "metadata": {
        "colab": {
          "base_uri": "https://localhost:8080/"
        },
        "id": "ZxycllQBgSuz",
        "outputId": "f658e059-f725-4116-dc84-3af7c7ed088d"
      },
      "source": [
        "grid.best_estimator_"
      ],
      "execution_count": 14,
      "outputs": [
        {
          "output_type": "execute_result",
          "data": {
            "text/plain": [
              "Pipeline(memory=None,\n",
              "         steps=[('robustscaler',\n",
              "                 RobustScaler(copy=True, quantile_range=(25.0, 75.0),\n",
              "                              with_centering=False, with_scaling=True)),\n",
              "                ('gradientboostingregressor',\n",
              "                 GradientBoostingRegressor(alpha=0.9, ccp_alpha=0.0,\n",
              "                                           criterion='friedman_mse', init=None,\n",
              "                                           learning_rate=0.1, loss='ls',\n",
              "                                           max_depth=10, max_features='auto',\n",
              "                                           max_leaf_nodes=None,\n",
              "                                           min_impurity_decrease=0.0,\n",
              "                                           min_impurity_split=None,\n",
              "                                           min_samples_leaf=5,\n",
              "                                           min_samples_split=2,\n",
              "                                           min_weight_fraction_leaf=0.0,\n",
              "                                           n_estimators=20,\n",
              "                                           n_iter_no_change=None,\n",
              "                                           presort='deprecated',\n",
              "                                           random_state=None, subsample=1.0,\n",
              "                                           tol=0.0001, validation_fraction=0.1,\n",
              "                                           verbose=0, warm_start=False))],\n",
              "         verbose=False)"
            ]
          },
          "metadata": {
            "tags": []
          },
          "execution_count": 14
        }
      ]
    },
    {
      "cell_type": "code",
      "metadata": {
        "id": "D60__-kngSwx"
      },
      "source": [
        "train_sizes, train_scores, test_scores=learning_curve(grid,x_train,y,cv=10, scoring='neg_mean_squared_error',n_jobs=-1, train_sizes=np.linspace(0.01, 1.0, 50))"
      ],
      "execution_count": 20,
      "outputs": []
    },
    {
      "cell_type": "code",
      "metadata": {
        "id": "uj9SVk7KgS0a"
      },
      "source": [
        "train_mean = np.mean(train_scores, axis=1)\n",
        "train_std = np.std(train_scores, axis=1)\n",
        "\n",
        "test_mean = np.mean(test_scores, axis=1)\n",
        "test_std = np.std(test_scores, axis=1)"
      ],
      "execution_count": 25,
      "outputs": []
    },
    {
      "cell_type": "code",
      "metadata": {
        "colab": {
          "base_uri": "https://localhost:8080/",
          "height": 729
        },
        "id": "SCSGRzN1gS2T",
        "outputId": "c805d621-318a-49a2-efbd-b7d20370f1de"
      },
      "source": [
        "plt.subplots(1, figsize=(10,10))\n",
        "plt.plot(train_sizes, train_mean, '--', color=\"#111111\",  label=\"Training score\")\n",
        "plt.plot(train_sizes, test_mean, color=\"#111111\", label=\"Cross-validation score\")\n",
        "\n",
        "plt.fill_between(train_sizes, train_mean - train_std, train_mean + train_std, color=\"#DDDDDD\")\n",
        "plt.fill_between(train_sizes, test_mean - test_std, test_mean + test_std, color=\"#DDDDDD\")\n",
        "\n",
        "plt.title(\"Learning Curve\")\n",
        "plt.xlabel(\"Training Set Size\"), plt.ylabel(\"Accuracy Score\"), plt.legend(loc=\"best\")\n",
        "plt.tight_layout()\n",
        "plt.show()"
      ],
      "execution_count": 27,
      "outputs": [
        {
          "output_type": "display_data",
          "data": {
            "image/png": "[encoded data removed]",
            "text/plain": [
              "<Figure size 720x720 with 1 Axes>"
            ]
          },
          "metadata": {
            "tags": [],
            "needs_background": "light"
          }
        }
      ]
    },
    {
      "cell_type": "code",
      "metadata": {
        "colab": {
          "base_uri": "https://localhost:8080/",
          "height": 163
        },
        "id": "CMOBm1_hgS6i",
        "outputId": "85c60e9e-cc65-4de9-f670-5ffea2cde3fd"
      },
      "source": [
        "y"
      ],
      "execution_count": 8,
      "outputs": [
        {
          "output_type": "error",
          "ename": "NameError",
          "evalue": "ignored",
          "traceback": [
            "\u001b[0;31m---------------------------------------------------------------------------\u001b[0m",
            "\u001b[0;31mNameError\u001b[0m                                 Traceback (most recent call last)",
            "\u001b[0;32m<ipython-input-8-9063a9f0e032>\u001b[0m in \u001b[0;36m<module>\u001b[0;34m()\u001b[0m\n\u001b[0;32m----> 1\u001b[0;31m \u001b[0my\u001b[0m\u001b[0;34m\u001b[0m\u001b[0;34m\u001b[0m\u001b[0m\n\u001b[0m",
            "\u001b[0;31mNameError\u001b[0m: name 'y' is not defined"
          ]
        }
      ]
    },
    {
      "cell_type": "code",
      "metadata": {
        "id": "sQ-vVVCWhQcc"
      },
      "source": [
        ""
      ],
      "execution_count": null,
      "outputs": []
    }
  ]
}