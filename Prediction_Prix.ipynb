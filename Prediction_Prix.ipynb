{
  "nbformat": 4,
  "nbformat_minor": 0,
  "metadata": {
    "colab": {
      "name": "Prediction Prix",
      "provenance": [],
      "mount_file_id": "1LJyH6O-h8erZUS3jIh3L8L-iWdki9qBF",
      "authorship_tag": "ABX9TyMD5c4dp2Z5PgELZgj3Z+S5",
      "include_colab_link": true
    },
    "kernelspec": {
      "name": "python3",
      "display_name": "Python 3"
    },
    "language_info": {
      "name": "python"
    }
  },
  "cells": [
    {
      "cell_type": "markdown",
      "metadata": {
        "id": "view-in-github",
        "colab_type": "text"
      },
      "source": [
        "<a href=\"https://colab.research.google.com/github/malick741/MACHINE-LEARNING/blob/main/Prediction_Prix.ipynb\" target=\"_parent\"><img src=\"https://colab.research.google.com/assets/colab-badge.svg\" alt=\"Open In Colab\"/></a>"
      ]
    },
    {
      "cell_type": "code",
      "metadata": {
        "id": "oS1Y6Ne2fBqy"
      },
      "source": [
        "import pandas as pd\n",
        "import numpy as np\n",
        "import matplotlib.pyplot as plt\n",
        "import seaborn as sns\n",
        "from sklearn.preprocessing import OneHotEncoder,OrdinalEncoder,LabelEncoder\n",
        "from sklearn.model_selection import train_test_split,learning_curve\n",
        "from sklearn.ensemble import GradientBoostingRegressor\n",
        "from sklearn.pipeline import make_pipeline\n",
        "from sklearn.preprocessing import RobustScaler\n",
        "from sklearn.model_selection import GridSearchCV\n",
        "from sklearn.linear_model import LogisticRegression\n"
      ],
      "execution_count": 28,
      "outputs": []
    },
    {
      "cell_type": "code",
      "metadata": {
        "id": "OUoOKPcogRlx"
      },
      "source": [
        "df0=pd.read_csv('/content/train.csv')\n",
        "df=df0.copy()\n",
        "dfT=pd.read_csv('/content/test.csv')\n",
        "df1=dfT.copy()"
      ],
      "execution_count": 45,
      "outputs": []
    },
    {
      "cell_type": "code",
      "metadata": {
        "colab": {
          "base_uri": "https://localhost:8080/"
        },
        "id": "QkyZ1LKfgSde",
        "outputId": "ee8ef5d8-9350-4fa2-9683-11967f311eb7"
      },
      "source": [
        "def procedd(df):\n",
        "    df.drop(df[['PoolQC','Fence','MiscFeature','Alley']],axis=1,inplace=True)\n",
        "    df.drop_duplicates(inplace=True)\n",
        "    df['Electrical']=df['Electrical'].ffill()\n",
        "    df[['FireplaceQu','MasVnrType','BsmtQual','MasVnrArea']]=df[['FireplaceQu','MasVnrType','BsmtQual','MasVnrArea']].fillna('0')\n",
        "    df[['BsmtCond','BsmtExposure','BsmtFinType1','BsmtFinSF1','BsmtFinType2'  ]]=df[['BsmtCond','BsmtExposure','BsmtFinType1','BsmtFinSF1','BsmtFinType2'  ]].fillna('0')\n",
        "    df[['GarageType', 'GarageYrBlt','GarageFinish', 'GarageCars', 'GarageArea', 'GarageQual', 'GarageCond'  ]]=df[['GarageType', 'GarageYrBlt','GarageFinish', 'GarageCars', 'GarageArea', 'GarageQual', 'GarageCond'  ]].fillna('0')\n",
        "    df['GarageYrBlt']=df['GarageYrBlt'].astype(int)\n",
        "    df['LotFrontage']=df['LotFrontage'].fillna(df['LotFrontage'].mean())\n",
        "    \n",
        "    return df\n",
        "df=procedd(df0)\n",
        "\n",
        "\n",
        "\n",
        "\n",
        "\n",
        "def procedd(df1):\n",
        "    df1.drop(df1[['PoolQC','Fence','MiscFeature','Alley']],axis=1,inplace=True)\n",
        "    df1.drop_duplicates(inplace=True)\n",
        "    df1['Electrical']=df1['Electrical'].ffill()\n",
        "    df1[['FireplaceQu','MasVnrType','BsmtQual','MasVnrArea']]=df1[['FireplaceQu','MasVnrType','BsmtQual','MasVnrArea']].fillna('0')\n",
        "    df1[['BsmtCond','BsmtExposure','BsmtFinType1','BsmtFinSF1','BsmtFinType2'  ]]=df1[['BsmtCond','BsmtExposure','BsmtFinType1','BsmtFinSF1','BsmtFinType2'  ]].fillna('0')\n",
        "    df1[['GarageType', 'GarageYrBlt','GarageFinish', 'GarageCars', 'GarageArea', 'GarageQual', 'GarageCond'  ]]=df1[['GarageType', 'GarageYrBlt','GarageFinish', 'GarageCars', 'GarageArea', 'GarageQual', 'GarageCond'  ]].fillna('0')\n",
        "    df1['GarageYrBlt']=df1['GarageYrBlt'].astype(int)\n",
        "    df1['LotFrontage']=df1['LotFrontage'].fillna(df['LotFrontage'].mean())\n",
        "    #df1.dropna(inplace=True)\n",
        "    return df1\n",
        "df1=procedd(df1)\n",
        "\n",
        "\n",
        "encc=OrdinalEncoder()\n",
        "x_train=df[['LotFrontage','LotArea', 'Neighborhood', 'YearBuilt', 'BsmtFinSF1', 'TotalBsmtSF','1stFlrSF', 'GrLivArea', 'GarageArea','Neighborhood','MSZoning','Condition1','HouseStyle','BsmtQual','Heating']]\n",
        "x_test=df[['LotFrontage','LotArea', 'Neighborhood', 'YearBuilt', 'BsmtFinSF1', 'TotalBsmtSF','1stFlrSF', 'GrLivArea', 'GarageArea','Neighborhood','MSZoning','Condition1','HouseStyle','BsmtQual','Heating']]\n",
        "\n",
        "\n",
        "\n",
        "x_train[['Neighborhood','MSZoning','Condition1','HouseStyle','BsmtQual','Heating']]=encc.fit_transform(x_train[['Neighborhood','MSZoning','Condition1','HouseStyle','BsmtQual','Heating']])\n",
        "x_test[['Neighborhood','MSZoning','Condition1','HouseStyle','BsmtQual','Heating']]=encc.fit_transform(x_test[['Neighborhood','MSZoning','Condition1','HouseStyle','BsmtQual','Heating']])\n"
      ],
      "execution_count": 46,
      "outputs": [
        {
          "output_type": "stream",
          "text": [
            "/usr/local/lib/python3.7/dist-packages/ipykernel_launcher.py:38: SettingWithCopyWarning: \n",
            "A value is trying to be set on a copy of a slice from a DataFrame.\n",
            "Try using .loc[row_indexer,col_indexer] = value instead\n",
            "\n",
            "See the caveats in the documentation: https://pandas.pydata.org/pandas-docs/stable/user_guide/indexing.html#returning-a-view-versus-a-copy\n",
            "/usr/local/lib/python3.7/dist-packages/pandas/core/indexing.py:1734: SettingWithCopyWarning: \n",
            "A value is trying to be set on a copy of a slice from a DataFrame.\n",
            "Try using .loc[row_indexer,col_indexer] = value instead\n",
            "\n",
            "See the caveats in the documentation: https://pandas.pydata.org/pandas-docs/stable/user_guide/indexing.html#returning-a-view-versus-a-copy\n",
            "  isetter(loc, value[:, i].tolist())\n",
            "/usr/local/lib/python3.7/dist-packages/ipykernel_launcher.py:39: SettingWithCopyWarning: \n",
            "A value is trying to be set on a copy of a slice from a DataFrame.\n",
            "Try using .loc[row_indexer,col_indexer] = value instead\n",
            "\n",
            "See the caveats in the documentation: https://pandas.pydata.org/pandas-docs/stable/user_guide/indexing.html#returning-a-view-versus-a-copy\n",
            "/usr/local/lib/python3.7/dist-packages/pandas/core/indexing.py:1734: SettingWithCopyWarning: \n",
            "A value is trying to be set on a copy of a slice from a DataFrame.\n",
            "Try using .loc[row_indexer,col_indexer] = value instead\n",
            "\n",
            "See the caveats in the documentation: https://pandas.pydata.org/pandas-docs/stable/user_guide/indexing.html#returning-a-view-versus-a-copy\n",
            "  isetter(loc, value[:, i].tolist())\n"
          ],
          "name": "stderr"
        }
      ]
    },
    {
      "cell_type": "code",
      "metadata": {
        "id": "b1Q4ow3mhVW1"
      },
      "source": [
        "y=df['SalePrice']"
      ],
      "execution_count": null,
      "outputs": []
    },
    {
      "cell_type": "code",
      "metadata": {
        "id": "-psf_43ggSod"
      },
      "source": [
        "del df['SalePrice']"
      ],
      "execution_count": null,
      "outputs": []
    },
    {
      "cell_type": "code",
      "metadata": {
        "colab": {
          "base_uri": "https://localhost:8080/"
        },
        "id": "CMOBm1_hgS6i",
        "outputId": "57964ca7-8f02-438b-b06d-dfc18364034d"
      },
      "source": [
        "RANDOM_SEED = 23\n",
        "def gbr_objective(trial):\n",
        "    _n_estimators = trial.suggest_int(\"n_estimators\", 50, 2000)\n",
        "    _learning_rate = trial.suggest_float(\"learning_rate\", 0.01, 1)\n",
        "    _max_depth = trial.suggest_int(\"max_depth\", 1, 20)\n",
        "    _min_samp_split = trial.suggest_int(\"min_samples_split\", 2, 20)\n",
        "    _min_samples_leaf = trial.suggest_int(\"min_samples_leaf\", 2, 20)\n",
        "    _max_features = trial.suggest_int(\"max_features\", 10, 50)\n",
        "\n",
        "    gbr = GradientBoostingRegressor(\n",
        "        n_estimators=_n_estimators,\n",
        "        learning_rate=_learning_rate,\n",
        "        max_depth=_max_depth, \n",
        "        max_features=_max_features,\n",
        "        min_samples_leaf=_min_samples_leaf,\n",
        "        min_samples_split=_min_samp_split,\n",
        "        \n",
        "        random_state=RANDOM_SEED,\n",
        "    )\n",
        "\n",
        "    score = cross_val_score(\n",
        "        gbr, X_train,y_train, cv=kfolds, scoring=\"neg_root_mean_squared_error\"\n",
        "    ).mean()\n",
        "    return score\n",
        "\n",
        "\n",
        "\n",
        "\n",
        "\n",
        "\n",
        "gbr_params = {'n_estimators': 1831, 'learning_rate': 0.01325036780847096, 'max_depth': 3, 'min_samples_split': 17, 'min_samples_leaf': 2, 'max_features': 12}\n",
        "gbr = GradientBoostingRegressor(random_state=RANDOM_SEED, **gbr_params)\n",
        "gbr.fit(x_train,y)"
      ],
      "execution_count": 48,
      "outputs": [
        {
          "output_type": "execute_result",
          "data": {
            "text/plain": [
              "GradientBoostingRegressor(alpha=0.9, ccp_alpha=0.0, criterion='friedman_mse',\n",
              "                          init=None, learning_rate=0.01325036780847096,\n",
              "                          loss='ls', max_depth=3, max_features=12,\n",
              "                          max_leaf_nodes=None, min_impurity_decrease=0.0,\n",
              "                          min_impurity_split=None, min_samples_leaf=2,\n",
              "                          min_samples_split=17, min_weight_fraction_leaf=0.0,\n",
              "                          n_estimators=1831, n_iter_no_change=None,\n",
              "                          presort='deprecated', random_state=23, subsample=1.0,\n",
              "                          tol=0.0001, validation_fraction=0.1, verbose=0,\n",
              "                          warm_start=False)"
            ]
          },
          "metadata": {
            "tags": []
          },
          "execution_count": 48
        }
      ]
    },
    {
      "cell_type": "code",
      "metadata": {
        "id": "sQ-vVVCWhQcc",
        "colab": {
          "base_uri": "https://localhost:8080/"
        },
        "outputId": "19dc6925-fdaa-4ef2-ca0d-e2498505e32e"
      },
      "source": [
        "gbr.score(x_train,y)"
      ],
      "execution_count": 49,
      "outputs": [
        {
          "output_type": "execute_result",
          "data": {
            "text/plain": [
              "0.9624415389178828"
            ]
          },
          "metadata": {
            "tags": []
          },
          "execution_count": 49
        }
      ]
    },
    {
      "cell_type": "code",
      "metadata": {
        "colab": {
          "base_uri": "https://localhost:8080/",
          "height": 729
        },
        "id": "g-S0KgjayEUF",
        "outputId": "a4e67204-ef37-4558-cb51-98f45ea27739"
      },
      "source": [
        "train_sizes, train_scores, test_scores=learning_curve(gbr,x_train,y,cv=10, scoring='neg_mean_squared_error',n_jobs=-1, train_sizes=np.linspace(0.01, 1.0, 50))\n",
        "\n",
        "\n",
        "train_mean = np.mean(train_scores, axis=1)\n",
        "train_std = np.std(train_scores, axis=1)\n",
        "\n",
        "test_mean = np.mean(test_scores, axis=1)\n",
        "test_std = np.std(test_scores, axis=1)\n",
        "\n",
        "\n",
        "plt.subplots(1, figsize=(10,10))\n",
        "plt.plot(train_sizes, train_mean, '--', color=\"#111111\",  label=\"Training score\")\n",
        "plt.plot(train_sizes, test_mean, color=\"#111111\", label=\"Cross-validation score\")\n",
        "\n",
        "plt.fill_between(train_sizes, train_mean - train_std, train_mean + train_std, color=\"#DDDDDD\")\n",
        "plt.fill_between(train_sizes, test_mean - test_std, test_mean + test_std, color=\"#DDDDDD\")\n",
        "\n",
        "plt.title(\"Learning Curve\")\n",
        "plt.xlabel(\"Training Set Size\"), plt.ylabel(\"Accuracy Score\"), plt.legend(loc=\"best\")\n",
        "plt.tight_layout()\n",
        "plt.show()"
      ],
      "execution_count": 53,
      "outputs": [
        {
          "output_type": "display_data",
          "data": {
            "image/png": "[encoded data removed]",
            "text/plain": [
              "<Figure size 720x720 with 1 Axes>"
            ]
          },
          "metadata": {
            "tags": [],
            "needs_background": "light"
          }
        }
      ]
    },
    {
      "cell_type": "code",
      "metadata": {
        "id": "7qMMwLfL4I4-"
      },
      "source": [
        "y_pred=gbr.predict(x_test)"
      ],
      "execution_count": 55,
      "outputs": []
    },
    {
      "cell_type": "code",
      "metadata": {
        "id": "vsXEWadi4frh"
      },
      "source": [
        ""
      ],
      "execution_count": 58,
      "outputs": []
    },
    {
      "cell_type": "code",
      "metadata": {
        "id": "C1bEu6mX4kJ4"
      },
      "source": [
        ""
      ],
      "execution_count": null,
      "outputs": []
    }
  ]
}