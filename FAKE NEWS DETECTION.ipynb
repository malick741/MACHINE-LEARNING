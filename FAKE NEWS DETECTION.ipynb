{
 "cells": [
  {
   "cell_type": "markdown",
   "id": "6943c6cc",
   "metadata": {},
   "source": [
    "**************PROGRAMME DE DETECTION FAKE NEWS*******************************"
   ]
  },
  {
   "cell_type": "code",
   "execution_count": 431,
   "id": "776fcc26",
   "metadata": {},
   "outputs": [
    {
     "name": "stderr",
     "output_type": "stream",
     "text": [
      "[nltk_data] Downloading package stopwords to\n",
      "[nltk_data]     C:\\Users\\mociss\\AppData\\Roaming\\nltk_data...\n",
      "[nltk_data]   Package stopwords is already up-to-date!\n"
     ]
    }
   ],
   "source": [
    "#importation librairie\n",
    "import pandas as pd\n",
    "import seaborn as sns\n",
    "import matplotlib.pyplot as plt\n",
    "import re\n",
    "from sklearn.model_selection import train_test_split\n",
    "from sklearn.feature_extraction.text import TfidfVectorizer\n",
    "from sklearn.model_selection import learning_curve\n",
    "from sklearn.model_selection import GridSearchCV\n",
    "from sklearn.linear_model import PassiveAggressiveClassifier\n",
    "import string\n",
    "import nltk\n",
    "nltk.download('stopwords')\n",
    "import numpy as np"
   ]
  },
  {
   "cell_type": "code",
   "execution_count": 539,
   "id": "aacb30b0",
   "metadata": {},
   "outputs": [
    {
     "data": {
      "text/html": [
       "<div>\n",
       "<style scoped>\n",
       "    .dataframe tbody tr th:only-of-type {\n",
       "        vertical-align: middle;\n",
       "    }\n",
       "\n",
       "    .dataframe tbody tr th {\n",
       "        vertical-align: top;\n",
       "    }\n",
       "\n",
       "    .dataframe thead th {\n",
       "        text-align: right;\n",
       "    }\n",
       "</style>\n",
       "<table border=\"1\" class=\"dataframe\">\n",
       "  <thead>\n",
       "    <tr style=\"text-align: right;\">\n",
       "      <th></th>\n",
       "      <th>id</th>\n",
       "      <th>title</th>\n",
       "      <th>author</th>\n",
       "      <th>text</th>\n",
       "      <th>label</th>\n",
       "    </tr>\n",
       "  </thead>\n",
       "  <tbody>\n",
       "    <tr>\n",
       "      <th>0</th>\n",
       "      <td>0</td>\n",
       "      <td>House Dem Aide: We Didn’t Even See Comey’s Let...</td>\n",
       "      <td>Darrell Lucus</td>\n",
       "      <td>House Dem Aide: We Didn’t Even See Comey’s Let...</td>\n",
       "      <td>1</td>\n",
       "    </tr>\n",
       "    <tr>\n",
       "      <th>1</th>\n",
       "      <td>1</td>\n",
       "      <td>FLYNN: Hillary Clinton, Big Woman on Campus - ...</td>\n",
       "      <td>Daniel J. Flynn</td>\n",
       "      <td>Ever get the feeling your life circles the rou...</td>\n",
       "      <td>0</td>\n",
       "    </tr>\n",
       "    <tr>\n",
       "      <th>2</th>\n",
       "      <td>2</td>\n",
       "      <td>Why the Truth Might Get You Fired</td>\n",
       "      <td>Consortiumnews.com</td>\n",
       "      <td>Why the Truth Might Get You Fired October 29, ...</td>\n",
       "      <td>1</td>\n",
       "    </tr>\n",
       "    <tr>\n",
       "      <th>3</th>\n",
       "      <td>3</td>\n",
       "      <td>15 Civilians Killed In Single US Airstrike Hav...</td>\n",
       "      <td>Jessica Purkiss</td>\n",
       "      <td>Videos 15 Civilians Killed In Single US Airstr...</td>\n",
       "      <td>1</td>\n",
       "    </tr>\n",
       "    <tr>\n",
       "      <th>4</th>\n",
       "      <td>4</td>\n",
       "      <td>Iranian woman jailed for fictional unpublished...</td>\n",
       "      <td>Howard Portnoy</td>\n",
       "      <td>Print \\nAn Iranian woman has been sentenced to...</td>\n",
       "      <td>1</td>\n",
       "    </tr>\n",
       "    <tr>\n",
       "      <th>...</th>\n",
       "      <td>...</td>\n",
       "      <td>...</td>\n",
       "      <td>...</td>\n",
       "      <td>...</td>\n",
       "      <td>...</td>\n",
       "    </tr>\n",
       "    <tr>\n",
       "      <th>20795</th>\n",
       "      <td>20795</td>\n",
       "      <td>Rapper T.I.: Trump a ’Poster Child For White S...</td>\n",
       "      <td>Jerome Hudson</td>\n",
       "      <td>Rapper T. I. unloaded on black celebrities who...</td>\n",
       "      <td>0</td>\n",
       "    </tr>\n",
       "    <tr>\n",
       "      <th>20796</th>\n",
       "      <td>20796</td>\n",
       "      <td>N.F.L. Playoffs: Schedule, Matchups and Odds -...</td>\n",
       "      <td>Benjamin Hoffman</td>\n",
       "      <td>When the Green Bay Packers lost to the Washing...</td>\n",
       "      <td>0</td>\n",
       "    </tr>\n",
       "    <tr>\n",
       "      <th>20797</th>\n",
       "      <td>20797</td>\n",
       "      <td>Macy’s Is Said to Receive Takeover Approach by...</td>\n",
       "      <td>Michael J. de la Merced and Rachel Abrams</td>\n",
       "      <td>The Macy’s of today grew from the union of sev...</td>\n",
       "      <td>0</td>\n",
       "    </tr>\n",
       "    <tr>\n",
       "      <th>20798</th>\n",
       "      <td>20798</td>\n",
       "      <td>NATO, Russia To Hold Parallel Exercises In Bal...</td>\n",
       "      <td>Alex Ansary</td>\n",
       "      <td>NATO, Russia To Hold Parallel Exercises In Bal...</td>\n",
       "      <td>1</td>\n",
       "    </tr>\n",
       "    <tr>\n",
       "      <th>20799</th>\n",
       "      <td>20799</td>\n",
       "      <td>What Keeps the F-35 Alive</td>\n",
       "      <td>David Swanson</td>\n",
       "      <td>David Swanson is an author, activist, journa...</td>\n",
       "      <td>1</td>\n",
       "    </tr>\n",
       "  </tbody>\n",
       "</table>\n",
       "<p>20800 rows × 5 columns</p>\n",
       "</div>"
      ],
      "text/plain": [
       "          id                                              title  \\\n",
       "0          0  House Dem Aide: We Didn’t Even See Comey’s Let...   \n",
       "1          1  FLYNN: Hillary Clinton, Big Woman on Campus - ...   \n",
       "2          2                  Why the Truth Might Get You Fired   \n",
       "3          3  15 Civilians Killed In Single US Airstrike Hav...   \n",
       "4          4  Iranian woman jailed for fictional unpublished...   \n",
       "...      ...                                                ...   \n",
       "20795  20795  Rapper T.I.: Trump a ’Poster Child For White S...   \n",
       "20796  20796  N.F.L. Playoffs: Schedule, Matchups and Odds -...   \n",
       "20797  20797  Macy’s Is Said to Receive Takeover Approach by...   \n",
       "20798  20798  NATO, Russia To Hold Parallel Exercises In Bal...   \n",
       "20799  20799                          What Keeps the F-35 Alive   \n",
       "\n",
       "                                          author  \\\n",
       "0                                  Darrell Lucus   \n",
       "1                                Daniel J. Flynn   \n",
       "2                             Consortiumnews.com   \n",
       "3                                Jessica Purkiss   \n",
       "4                                 Howard Portnoy   \n",
       "...                                          ...   \n",
       "20795                              Jerome Hudson   \n",
       "20796                           Benjamin Hoffman   \n",
       "20797  Michael J. de la Merced and Rachel Abrams   \n",
       "20798                                Alex Ansary   \n",
       "20799                              David Swanson   \n",
       "\n",
       "                                                    text  label  \n",
       "0      House Dem Aide: We Didn’t Even See Comey’s Let...      1  \n",
       "1      Ever get the feeling your life circles the rou...      0  \n",
       "2      Why the Truth Might Get You Fired October 29, ...      1  \n",
       "3      Videos 15 Civilians Killed In Single US Airstr...      1  \n",
       "4      Print \\nAn Iranian woman has been sentenced to...      1  \n",
       "...                                                  ...    ...  \n",
       "20795  Rapper T. I. unloaded on black celebrities who...      0  \n",
       "20796  When the Green Bay Packers lost to the Washing...      0  \n",
       "20797  The Macy’s of today grew from the union of sev...      0  \n",
       "20798  NATO, Russia To Hold Parallel Exercises In Bal...      1  \n",
       "20799    David Swanson is an author, activist, journa...      1  \n",
       "\n",
       "[20800 rows x 5 columns]"
      ]
     },
     "execution_count": 539,
     "metadata": {},
     "output_type": "execute_result"
    }
   ],
   "source": [
    "file_train='\\\\Users\\\\mociss\\\\Desktop\\\\tache\\\\Analyse\\\\PY\\\\FAKE_NEWS\\\\train.csv'\n",
    "file_test='\\\\Users\\\\mociss\\\\Desktop\\\\tache\\\\Analyse\\\\PY\\\\FAKE_NEWS\\\\test.csv'\n",
    "df_test=pd.read_csv(file_test)\n",
    "df=pd.read_csv(file_train)\n",
    "df"
   ]
  },
  {
   "cell_type": "markdown",
   "id": "90444d35",
   "metadata": {},
   "source": [
    "** EDA**"
   ]
  },
  {
   "cell_type": "code",
   "execution_count": 540,
   "id": "9c61472b",
   "metadata": {},
   "outputs": [
    {
     "data": {
      "text/plain": [
       "id     title  author  text   label\n",
       "False  False  False   False  False    18285\n",
       "              True    False  False     1918\n",
       "       True   False   False  False      558\n",
       "       False  True    True   False       39\n",
       "dtype: int64"
      ]
     },
     "execution_count": 540,
     "metadata": {},
     "output_type": "execute_result"
    }
   ],
   "source": [
    "df.isnull().value_counts()"
   ]
  },
  {
   "cell_type": "code",
   "execution_count": 541,
   "id": "788dbd45",
   "metadata": {},
   "outputs": [],
   "source": [
    "#plt.figure(figsize=(20,10))\n",
    "#sns.heatmap(df.isnull())"
   ]
  },
  {
   "cell_type": "code",
   "execution_count": 542,
   "id": "24fa0447",
   "metadata": {},
   "outputs": [
    {
     "data": {
      "text/plain": [
       "False    0.973173\n",
       "True     0.026827\n",
       "Name: title, dtype: float64"
      ]
     },
     "execution_count": 542,
     "metadata": {},
     "output_type": "execute_result"
    }
   ],
   "source": [
    "df['title'].isnull().value_counts()/df.shape[0]"
   ]
  },
  {
   "cell_type": "code",
   "execution_count": 543,
   "id": "5c24c27f",
   "metadata": {},
   "outputs": [],
   "source": [
    "#SUPPRESSION VALEUR VIDE \n",
    "df.dropna(inplace=True)"
   ]
  },
  {
   "cell_type": "code",
   "execution_count": 544,
   "id": "9fb7e75e",
   "metadata": {},
   "outputs": [
    {
     "data": {
      "text/plain": [
       "0    10361\n",
       "1     7924\n",
       "Name: label, dtype: int64"
      ]
     },
     "execution_count": 544,
     "metadata": {},
     "output_type": "execute_result"
    }
   ],
   "source": [
    "# proportion label\n",
    "df['label'].value_counts()"
   ]
  },
  {
   "cell_type": "code",
   "execution_count": 545,
   "id": "2316cbe4",
   "metadata": {},
   "outputs": [],
   "source": [
    "df.drop(['id','title'],axis=1,inplace=True)"
   ]
  },
  {
   "cell_type": "markdown",
   "id": "1ab615aa",
   "metadata": {},
   "source": [
    "**PREPROCESSING**"
   ]
  },
  {
   "cell_type": "code",
   "execution_count": 559,
   "id": "16071df9",
   "metadata": {},
   "outputs": [],
   "source": [
    "def process(text):\n",
    "    text= text.str.lower()\n",
    "    text= re.sub(r'\\s\\s+',\" \",text)\n",
    "    text= re.sub(r'\\\\W',\" \",text)\n",
    "    text= re.sub(r'\\[.*?\\]',\"\",text)\n",
    "    text= re.sub(r'[^\\w\\s]','',text)\n",
    "    text= re.sub('https?://\\S+|www\\.\\S+',\"\",text)    \n",
    "    text= re.sub('[%s]' % re.escape(string.punctuation),\"\",text)  \n",
    "    text= re.sub('\\n',\"\",text)\n",
    "    text= re.sub('\\w*\\d\\w*',\"\",text)\n",
    "    return text\n",
    "df['text']=df['text'].apply(process)"
   ]
  },
  {
   "cell_type": "markdown",
   "id": "7689fd9b",
   "metadata": {},
   "source": [
    "**VECTORISATION**"
   ]
  },
  {
   "cell_type": "code",
   "execution_count": 560,
   "id": "17e53048",
   "metadata": {},
   "outputs": [],
   "source": [
    "vecto=TfidfVectorizer()\n",
    "X=df['text']\n",
    "Y=df['label']\n",
    "x_train,x_test,y_train,y_test=train_test_split(X,Y,test_size=0.2,random_state=40)\n",
    "xv_train=vecto.fit_transform(x_train)\n",
    "xv_test=vecto.transform(x_test)\n",
    "\n",
    "\n",
    "def pre_process(df):\n",
    "    try:\n",
    "        df=df.apply(process)\n",
    "    except:\n",
    "        pass\n",
    "    df=vecto.transform(df)\n",
    "    return df"
   ]
  },
  {
   "cell_type": "markdown",
   "id": "d600cd06",
   "metadata": {},
   "source": [
    "**MODEL**"
   ]
  },
  {
   "cell_type": "code",
   "execution_count": 548,
   "id": "bc5b773b",
   "metadata": {},
   "outputs": [],
   "source": [
    "pac=PassiveAggressiveClassifier()\n",
    "params={'C':np.arange(1,20),\n",
    "       }\n",
    "grid=GridSearchCV(pac,params,cv=5)"
   ]
  },
  {
   "cell_type": "code",
   "execution_count": 549,
   "id": "0a5b93f1",
   "metadata": {
    "scrolled": true
   },
   "outputs": [
    {
     "data": {
      "text/plain": [
       "0.9677331145747881"
      ]
     },
     "execution_count": 549,
     "metadata": {},
     "output_type": "execute_result"
    }
   ],
   "source": [
    "model=grid.fit(xv_train,y_train)\n",
    "model.score(xv_test,y_test)\n"
   ]
  },
  {
   "cell_type": "code",
   "execution_count": 567,
   "id": "37151a6a",
   "metadata": {},
   "outputs": [],
   "source": [
    "N,train_score,val_score=learning_curve(model,xv_train,y_train,train_sizes=np.linspace(0.1,1.0,10),cv=5)"
   ]
  },
  {
   "cell_type": "code",
   "execution_count": 568,
   "id": "57eb9f7a",
   "metadata": {},
   "outputs": [
    {
     "data": {
      "text/plain": [
       "Text(0.5, 0, 'train_sizes')"
      ]
     },
     "execution_count": 568,
     "metadata": {},
     "output_type": "execute_result"
    },
    {
     "data": {
      "image/png": "[encoded data removed]",
      "text/plain": [
       "<Figure size 432x288 with 1 Axes>"
      ]
     },
     "metadata": {
      "needs_background": "light"
     },
     "output_type": "display_data"
    }
   ],
   "source": [
    "plt.plot(N,train_score.mean(axis=1),label='train')\n",
    "plt.plot(N,val_score.mean(axis=1),label='validation')\n",
    "plt.xlabel('train_sizes')"
   ]
  },
  {
   "cell_type": "markdown",
   "id": "0e957072",
   "metadata": {},
   "source": [
    "**TEST MANUEL**"
   ]
  },
  {
   "cell_type": "code",
   "execution_count": null,
   "id": "48c15576",
   "metadata": {},
   "outputs": [],
   "source": [
    "news=str(input(\"SAISIR L'INFORMATION : \"))\n",
    "def deploiement(n):\n",
    "    n=n.lower()\n",
    "    testing={'text':[n]}\n",
    "    testing= re.sub(r'\\\\W',\" \",str(testing))\n",
    "    testing= re.sub(r'\\s\\s+',\" \",str(testing))\n",
    "    testing= re.sub(r'\\[.*?\\]',\"\",str(testing))\n",
    "    testing= re.sub(r'[^\\w\\s]','',str(testing))\n",
    "    testing= re.sub('https?://\\S+|www\\.\\S+',\"\",str(testing))    \n",
    "    testing= re.sub('[%s]' % re.escape(string.punctuation),\"\",str(testing))  \n",
    "    testing= re.sub('\\n',\"\",str(testing))\n",
    "    testing= re.sub('\\w*\\d\\w*',\"\",str(testing))\n",
    "    testing={'text':[testing]}\n",
    "    testing=pd.DataFrame(testing)\n",
    "    testing=testing['text']\n",
    "    testing=vecto.fit_transform(testing)\n",
    "   \n",
    "    resultat=model.predict(testing)\n",
    "    \n",
    "    #if resultat==0:\n",
    "        #resultat=\"L'information n'est pas fausse\"\n",
    "    #if resultat==1:\n",
    "        #resultat=\"L'information est fausse\"\n",
    "    #return testing\n",
    "    print(testing.shape)\n",
    "deploiement(news)"
   ]
  },
  {
   "cell_type": "code",
   "execution_count": null,
   "id": "cebb075d",
   "metadata": {},
   "outputs": [],
   "source": []
  },
  {
   "cell_type": "code",
   "execution_count": 624,
   "id": "a8004be7",
   "metadata": {},
   "outputs": [
    {
     "data": {
      "text/plain": [
       "0        House Dem Aide: We Didn’t Even See Comey’s Let...\n",
       "1        Ever get the feeling your life circles the rou...\n",
       "2        Why the Truth Might Get You Fired October 29, ...\n",
       "3        Videos 15 Civilians Killed In Single US Airstr...\n",
       "4        Print \\nAn Iranian woman has been sentenced to...\n",
       "                               ...                        \n",
       "20795    Rapper T. I. unloaded on black celebrities who...\n",
       "20796    When the Green Bay Packers lost to the Washing...\n",
       "20797    The Macy’s of today grew from the union of sev...\n",
       "20798    NATO, Russia To Hold Parallel Exercises In Bal...\n",
       "20799      David Swanson is an author, activist, journa...\n",
       "Name: text, Length: 18285, dtype: object"
      ]
     },
     "execution_count": 624,
     "metadata": {},
     "output_type": "execute_result"
    }
   ],
   "source": []
  },
  {
   "cell_type": "code",
   "execution_count": null,
   "id": "3b0ab9ce",
   "metadata": {},
   "outputs": [],
   "source": []
  }
 ],
 "metadata": {
  "kernelspec": {
   "display_name": "Python 3 (ipykernel)",
   "language": "python",
   "name": "python3"
  },
  "language_info": {
   "codemirror_mode": {
    "name": "ipython",
    "version": 3
   },
   "file_extension": ".py",
   "mimetype": "text/x-python",
   "name": "python",
   "nbconvert_exporter": "python",
   "pygments_lexer": "ipython3",
   "version": "3.9.7"
  }
 },
 "nbformat": 4,
 "nbformat_minor": 5
}
